{
 "cells": [
  {
   "cell_type": "code",
   "execution_count": 1,
   "id": "70be76c8-0ade-4e53-ad1e-30e4a821b408",
   "metadata": {},
   "outputs": [],
   "source": [
    "from Class_Arduino2Rest import Arduino2Rest"
   ]
  },
  {
   "cell_type": "code",
   "execution_count": 6,
   "id": "cbb27a61-ac70-49a2-9f61-9bcecbd83b2f",
   "metadata": {},
   "outputs": [
    {
     "data": {
      "text/plain": [
       "9"
      ]
     },
     "execution_count": 6,
     "metadata": {},
     "output_type": "execute_result"
    }
   ],
   "source": [
    "arduino = Arduino2Rest(\"192.168.3.12\")\n",
    "\n",
    "# Setze einen Servo auf Position 150 an Port 9\n",
    "arduino.set_servo_position(9, 150)"
   ]
  },
  {
   "cell_type": "code",
   "execution_count": 7,
   "id": "66b68731-2e6b-4056-9ef0-f1170b5872a8",
   "metadata": {},
   "outputs": [
    {
     "data": {
      "text/plain": [
       "9"
      ]
     },
     "execution_count": 7,
     "metadata": {},
     "output_type": "execute_result"
    }
   ],
   "source": [
    "arduino.set_servo_position(9, 15)"
   ]
  },
  {
   "cell_type": "code",
   "execution_count": 8,
   "id": "3a269138-4e33-4190-a580-27d5100dc7e1",
   "metadata": {},
   "outputs": [
    {
     "name": "stdout",
     "output_type": "stream",
     "text": [
      "ReturnValue  0\n"
     ]
    }
   ],
   "source": [
    "rv = arduino.get_digital(5)\n",
    "print( \"ReturnValue \",rv)"
   ]
  },
  {
   "cell_type": "code",
   "execution_count": 9,
   "id": "a72df925-7405-4f79-98e0-d98257532d12",
   "metadata": {},
   "outputs": [
    {
     "name": "stdout",
     "output_type": "stream",
     "text": [
      "ReturnValue  501\n"
     ]
    }
   ],
   "source": [
    "rv = arduino.get_analog(0)\n",
    "print( \"ReturnValue \",rv)"
   ]
  },
  {
   "cell_type": "code",
   "execution_count": null,
   "id": "5c04254d-e373-43ac-bce1-ab13b6a846d8",
   "metadata": {},
   "outputs": [],
   "source": [
    "while(True):\n",
    "    if arduino.get_digital(5) == 1:\n",
    "        print(\"button pressed\")"
   ]
  },
  {
   "cell_type": "code",
   "execution_count": null,
   "id": "1b7b9c5a-92d4-438c-9893-aba40f2951e8",
   "metadata": {},
   "outputs": [],
   "source": [
    "while(True):\n",
    "    analog = arduino.get_analog(0)\n",
    "    if analog>1000:\n",
    "        print( \"Analog Value\",analog)\n",
    "    if arduino.get_digital(5) == 1:\n",
    "        print(\"button pressed\")"
   ]
  },
  {
   "cell_type": "code",
   "execution_count": null,
   "id": "70f16ca9-6c7f-4900-ba5c-ea9ec372c276",
   "metadata": {},
   "outputs": [],
   "source": []
  }
 ],
 "metadata": {
  "kernelspec": {
   "display_name": "Python 3 (ipykernel)",
   "language": "python",
   "name": "python3"
  },
  "language_info": {
   "codemirror_mode": {
    "name": "ipython",
    "version": 3
   },
   "file_extension": ".py",
   "mimetype": "text/x-python",
   "name": "python",
   "nbconvert_exporter": "python",
   "pygments_lexer": "ipython3",
   "version": "3.10.12"
  }
 },
 "nbformat": 4,
 "nbformat_minor": 5
}
